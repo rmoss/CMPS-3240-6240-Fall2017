{
 "cells": [
  {
   "cell_type": "code",
   "execution_count": 4,
   "metadata": {},
   "outputs": [
    {
     "name": "stdout",
     "output_type": "stream",
     "text": [
      "Gene Accession Number hum_alu_at A28102_at AB000114_at AB000115_at  \\\n",
      "Patient Samples                                                      \n",
      "1                          15091       151          72         281   \n",
      "2                          11038       263          21         250   \n",
      "3                          16692        88         -27         358   \n",
      "4                          15763       484          61         118   \n",
      "5                          18128       118          16         197   \n",
      "\n",
      "Gene Accession Number AB000220_at AB000409_at AB000449_at AB000450_at  \\\n",
      "Patient Samples                                                         \n",
      "1                              36        -299          57         186   \n",
      "2                              43        -103         169         219   \n",
      "3                              42         142         359         237   \n",
      "4                              39         -11         274         245   \n",
      "5                              39         237         311         186   \n",
      "\n",
      "Gene Accession Number AB000460_at AB000462_at     ...     U48730_at U58516_at  \\\n",
      "Patient Samples                                   ...                           \n",
      "1                            1647         137     ...           185       511   \n",
      "2                            2043         188     ...           169       837   \n",
      "3                            1997          91     ...           315      1199   \n",
      "4                            2128         -82     ...           240       835   \n",
      "5                            1608         204     ...           156       649   \n",
      "\n",
      "Gene Accession Number U73738_at X06956_at X16699_at X83863_at Z17240_at  \\\n",
      "Patient Samples                                                           \n",
      "1                          -125       389       -37       793       329   \n",
      "2                           -36       442       -17       782       295   \n",
      "3                            33       168        52      1138       777   \n",
      "4                           218       174      -110       627       170   \n",
      "5                            57       504       -26       250       314   \n",
      "\n",
      "Gene Accession Number L49218_f_at M71243_f_at Z78285_f_at  \n",
      "Patient Samples                                            \n",
      "1                              36         191         -37  \n",
      "2                              11          76         -14  \n",
      "3                              41         228         -41  \n",
      "4                             -50         126         -91  \n",
      "5                              14          56         -25  \n",
      "\n",
      "[5 rows x 7071 columns]\n",
      "   patient cancer\n",
      "0        1    ALL\n",
      "1        2    ALL\n",
      "2        3    ALL\n",
      "3        4    ALL\n",
      "4        5    ALL\n"
     ]
    }
   ],
   "source": [
    "import numpy as np\n",
    "import pandas as pd\n",
    "import re\n",
    "from sklearn.decomposition import PCA as sklearnPCA\n",
    "from sklearn.model_selection import train_test_split, GridSearchCV\n",
    "from sklearn.neighbors import KNeighborsClassifier\n",
    "from sklearn.svm import LinearSVC\n",
    "from sklearn.ensemble import RandomForestClassifier\n",
    "from sklearn import metrics\n",
    "from sklearn.metrics import accuracy_score, classification_report, confusion_matrix, log_loss, precision_score\n",
    "import matplotlib.pyplot as plt\n",
    "from ggplot import *\n",
    "import itertools\n",
    "\n",
    "# Function for plotting the confusion matrices\n",
    "def plot_confusion_matrix(cm, title=\"Confusion Matrix\"):\n",
    "    \"\"\"\n",
    "    Plots the confusion matrix. Modified verison from \n",
    "    http://scikit-learn.org/stable/auto_examples/model_selection/plot_confusion_matrix.html\n",
    "    Inputs: \n",
    "        cm: confusion matrix\n",
    "        title: Title of plot\n",
    "    \"\"\"\n",
    "    classes=[\"AML\", \"ALL\"]    \n",
    "    plt.imshow(cm, interpolation='nearest', cmap=plt.cm.bone)\n",
    "    plt.title(title)\n",
    "    tick_marks = np.arange(len(classes))\n",
    "    plt.xticks(tick_marks, classes, rotation=0)\n",
    "    plt.yticks(tick_marks, classes)\n",
    "    plt.ylabel('Actual')\n",
    "    plt.xlabel('Predicted')\n",
    "    thresh = cm.mean()\n",
    "    for i, j in itertools.product(range(cm.shape[0]), range(cm.shape[1])):\n",
    "        plt.text(j, i, format(cm[i, j]), \n",
    "                 horizontalalignment=\"center\",\n",
    "                 color=\"white\" if cm[i, j] < thresh else \"black\")\n",
    "\n",
    "# Function to calculate and print basic metrics for each model\n",
    "def basic_metrics(preds, y_test_labels):\n",
    "  metrics.accuracy_score(preds, y_test_labels)\n",
    "  accu_dtc = accuracy_score(y_test_labels, preds, normalize=True)\n",
    "  prec_dtc_all = precision_score(y_test_labels, preds, pos_label=\"ALL\")\n",
    "  prec_dtc_aml = precision_score(y_test_labels, preds, pos_label=\"AML\")\n",
    "  print(\"Accuracy:%.2f\" %accu_dtc)\n",
    "  print(\"Precision ALL: %.2f\" %prec_dtc_all)\n",
    "  print(\"Precision AML: %.2f \\n\" %prec_dtc_aml)\n",
    "  cfmatrix = confusion_matrix(y_true=y_test_labels, y_pred=preds)\n",
    "  plt.subplot(121)\n",
    "  plot_confusion_matrix(cfmatrix, title=\"Confusion Matrix\")\n",
    "  plt.show(block=True)\n",
    "\n",
    "#***DATA READER*** Takes 3 CSV files and cleans data so that the data items are in the form of learning examples(a two dimensional array of samples, each row corresponds to a sample (patient) and each column corresponds to a feature (gene expression).\n",
    "testfile='data_set_ALL_AML_independent.csv'\n",
    "trainfile='data_set_ALL_AML_train.csv'\n",
    "ct_target='actual.csv'\n",
    "\n",
    "#import data sets (train and test samples with gene expression values + cancer type labels)\n",
    "raw_train = pd.read_csv(trainfile)\n",
    "raw_test = pd.read_csv(testfile)\n",
    "ct_target = pd.read_csv(ct_target)\n",
    "\n",
    "# Remove \"call\" columns not needed from training and test dataframes\n",
    "train_keep = [col for col in raw_train.columns if \"call\" not in col]\n",
    "test_keep = [col for col in raw_test.columns if \"call\" not in col]\n",
    "\n",
    "train = raw_train[train_keep].set_index(\"Gene Accession Number\")\n",
    "test = raw_test[test_keep].set_index(\"Gene Accession Number\")\n",
    "\n",
    "# Transpose the columns and rows so that genes become features and rows become observations\n",
    "train = train.T\n",
    "test = test.T\n",
    "\n",
    "# removing chip endogenous controls (not informative for cancer classification)\n",
    "train_keep = [col for col in train if not re.match(\"^AFFX\", col)]\n",
    "test_keep = [col for col in test if not re.match(\"^AFFX\", col)]\n",
    "\n",
    "train = train[train_keep]\n",
    "test = test[test_keep]\n",
    "\n",
    "# clean the column and index names\n",
    "train = train.drop([\"Gene Description\"])\n",
    "test = test.drop([\"Gene Description\"])\n",
    "\n",
    "train.index.names = ['Patient Samples']\n",
    "train.columns.names = ['Gene Accession Number']\n",
    "test.index.names = ['Patient Samples']\n",
    "test.columns.names = ['Gene Accession Number']\n",
    "\n",
    "# Print head to show data reader works\n",
    "print(train.head())\n",
    "print(ct_target.head())\n",
    "\n",
    "\n",
    "# ***TRAIN AND TEST***\n",
    "# Apply a machine learning algorithm on the gene expression data and evaluate its performance\n",
    "\n",
    "# Make a test/train/evaluation split of the data.  First combine train and test data into one dataframe\n",
    "train = train.append(test)\n",
    "\n",
    "#Normalize the data\n",
    "train_norm = (train - train.min()) / (train.max() - train.min())\n",
    "\n",
    "# normalized = train_norm.loc[:, train_norm.var()>.065]\n",
    "X = train_norm\n",
    "y = ct_target['cancer']\n",
    "\n",
    "#Reduce dimensionality of data with PCA Analysis\n",
    "sklearn_pca = sklearnPCA(n_components=50)\n",
    "X_sklearn = sklearn_pca.fit_transform(X)\n",
    "\n",
    "\n",
    "# For initial test, just using first 50 columns of gene expression data as selected features (X).  Target labelled file is assigned to y, then scikit train_test_split used to manage data \n",
    "#X = train#.iloc[:,:50]\n",
    "#y = ct_target['cancer']\n",
    "# to make the experiment replicable we use a constant random_state\n",
    "X_train, X_test, y_train, y_test = train_test_split(X_sklearn, y, train_size=50, random_state = 253)"
   ]
  },
  {
   "cell_type": "code",
   "execution_count": 5,
   "metadata": {},
   "outputs": [
    {
     "name": "stdout",
     "output_type": "stream",
     "text": [
      "Metrics for kNN, k = 1:\n",
      "Accuracy:0.77\n",
      "Precision ALL: 0.79\n",
      "Precision AML: 0.75 \n",
      "\n"
     ]
    },
    {
     "data": {
      "image/png": "[encoded data removed]",
      "text/plain": [
       "<matplotlib.figure.Figure at 0x12218ee48>"
      ]
     },
     "metadata": {},
     "output_type": "display_data"
    }
   ],
   "source": [
    "# ***Evaluation with different models****\n",
    "# Use a standard ML algorithm on the training set. \n",
    "# Evaluate with the test set using basic_metric() function above for basic\n",
    "# accuracy and precision score for each class as initial evaluation.\n",
    "\n",
    "# ***kNN k=1*** Using k nearest neighbors from sci-kit learn \n",
    "knn = KNeighborsClassifier(n_neighbors=1)\n",
    "knn.fit(X_train, y_train)\n",
    "p_1nn = knn.predict(X_test)\n",
    "print(\"Metrics for kNN, k = 1:\")\n",
    "basic_metrics(p_1nn, y_test)"
   ]
  },
  {
   "cell_type": "code",
   "execution_count": 2,
   "metadata": {},
   "outputs": [
    {
     "name": "stdout",
     "output_type": "stream",
     "text": [
      "Metrics for kNN, k = 3:\n",
      "Accuracy:0.73\n",
      "Precision ALL: 0.68\n",
      "Precision AML: 1.00 \n",
      "\n"
     ]
    },
    {
     "data": {
      "image/png": "[encoded data removed]",
      "text/plain": [
       "<matplotlib.figure.Figure at 0x111b9ea58>"
      ]
     },
     "metadata": {},
     "output_type": "display_data"
    }
   ],
   "source": [
    "# ***kNN k=3*** Using k nearest neighbors from sci-kit learn \n",
    "knn = KNeighborsClassifier(n_neighbors=3)\n",
    "knn.fit(X_train, y_train)\n",
    "p_3nn = knn.predict(X_test)\n",
    "print(\"Metrics for kNN, k = 3:\")\n",
    "basic_metrics(p_3nn, y_test)"
   ]
  },
  {
   "cell_type": "code",
   "execution_count": 3,
   "metadata": {},
   "outputs": [
    {
     "name": "stdout",
     "output_type": "stream",
     "text": [
      "Metrics for SVM: \n",
      "Accuracy:0.82\n",
      "Precision ALL: 0.91\n",
      "Precision AML: 0.73 \n",
      "\n"
     ]
    },
    {
     "data": {
      "image/png": "[encoded data removed]",
      "text/plain": [
       "<matplotlib.figure.Figure at 0x1222d3cf8>"
      ]
     },
     "metadata": {},
     "output_type": "display_data"
    }
   ],
   "source": [
    "# ***SVM*** \n",
    "svm = LinearSVC()\n",
    "svm.fit(X_train, y_train)\n",
    "p_svm = svm.predict(X_test)\n",
    "print(\"Metrics for SVM: \")\n",
    "basic_metrics(p_svm, y_test)"
   ]
  },
  {
   "cell_type": "code",
   "execution_count": 6,
   "metadata": {},
   "outputs": [
    {
     "name": "stdout",
     "output_type": "stream",
     "text": [
      "Fitting 10 folds for each of 48 candidates, totalling 480 fits\n"
     ]
    },
    {
     "name": "stderr",
     "output_type": "stream",
     "text": [
      "[Parallel(n_jobs=-1)]: Done  66 tasks      | elapsed:   18.3s\n",
      "[Parallel(n_jobs=-1)]: Done 216 tasks      | elapsed:   59.4s\n",
      "[Parallel(n_jobs=-1)]: Done 466 tasks      | elapsed:  2.6min\n",
      "[Parallel(n_jobs=-1)]: Done 480 out of 480 | elapsed:  2.8min finished\n"
     ]
    },
    {
     "name": "stdout",
     "output_type": "stream",
     "text": [
      "Best score: 0.72\n",
      "RandomForestClassifier(bootstrap=True, class_weight=None, criterion='gini',\n",
      "            max_depth=None, max_features='auto', max_leaf_nodes=None,\n",
      "            min_impurity_split=1e-07, min_samples_leaf=1,\n",
      "            min_samples_split=2, min_weight_fraction_leaf=0.0,\n",
      "            n_estimators=500, n_jobs=-1, oob_score=False, random_state=1,\n",
      "            verbose=0, warm_start=False)\n"
     ]
    }
   ],
   "source": [
    "# ***Random Forest***\n",
    "# check to see what is best estimator\n",
    "rf_param = {\n",
    "    \"n_estimators\": [1,10,50,100,500,1000],\n",
    "    \"criterion\": [\"gini\",\"entropy\"],\n",
    "    \"max_features\": [\"auto\"],\n",
    "    \"max_depth\": [None,1,5,10],\n",
    "    \"max_leaf_nodes\": [None],\n",
    "    \"oob_score\": [False],\n",
    "    \"n_jobs\": [-1],\n",
    "    \"warm_start\": [False],\n",
    "    \"random_state\": [1]\n",
    "}\n",
    "rf_model_r = RandomForestClassifier()\n",
    "rf_r = GridSearchCV(estimator=rf_model_r, param_grid=rf_param, \n",
    "                              scoring=None,\n",
    "                              n_jobs=-1, \n",
    "                              cv=10, \n",
    "                              verbose=1,\n",
    "                              return_train_score=True)\n",
    "\n",
    "rf_r.fit(X_train, y_train)\n",
    "\n",
    "print(\"Best score:\", rf_r.best_score_)\n",
    "print(rf_r.best_estimator_)"
   ]
  },
  {
   "cell_type": "code",
   "execution_count": 7,
   "metadata": {},
   "outputs": [
    {
     "name": "stdout",
     "output_type": "stream",
     "text": [
      "Metrics for Random Forest: \n",
      "Accuracy:0.59\n",
      "Precision ALL: 0.59\n",
      "Precision AML: 0.00 \n",
      "\n"
     ]
    },
    {
     "name": "stderr",
     "output_type": "stream",
     "text": [
      "/Applications/anaconda/lib/python3.6/site-packages/sklearn/metrics/classification.py:1113: UndefinedMetricWarning: Precision is ill-defined and being set to 0.0 due to no predicted samples.\n",
      "  'precision', 'predicted', average, warn_for)\n"
     ]
    },
    {
     "data": {
      "image/png": "[encoded data removed]",
      "text/plain": [
       "<matplotlib.figure.Figure at 0x111b72240>"
      ]
     },
     "metadata": {},
     "output_type": "display_data"
    }
   ],
   "source": [
    "rf_model = rf_r.best_estimator_\n",
    "y_pred_rf = rf_model.predict(X_test)\n",
    "print(\"Metrics for Random Forest: \")\n",
    "basic_metrics(y_pred_rf, y_test)"
   ]
  },
  {
   "cell_type": "code",
   "execution_count": null,
   "metadata": {
    "collapsed": true
   },
   "outputs": [],
   "source": []
  }
 ],
 "metadata": {
  "kernelspec": {
   "display_name": "Python 3",
   "language": "python",
   "name": "python3"
  },
  "language_info": {
   "codemirror_mode": {
    "name": "ipython",
    "version": 3
   },
   "file_extension": ".py",
   "mimetype": "text/x-python",
   "name": "python",
   "nbconvert_exporter": "python",
   "pygments_lexer": "ipython3",
   "version": "3.6.1"
  }
 },
 "nbformat": 4,
 "nbformat_minor": 2
}
